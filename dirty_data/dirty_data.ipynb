{
 "cells": [
  {
   "cell_type": "markdown",
   "metadata": {},
   "source": [
    "# Dirty data: dealing with missing, unbalanced, and diverse data\n",
    "\n",
    "In the last few posts, we have covered some general principles of fitting machine learning models, optimizing hyperparameters of your models, and different techniques for building an ensemble model from individual models. However, we have mostly avoided talking about some common issues that plague real-world machine learning. \n",
    "\n",
    "Namely, what do you do if you have a lot of missing data? Simply omitting rows with missing values can rapidly whittle your dataset down too much. And what happens if the outcome you're trying to predict is quite rare (e.g. as in fraud detection) in your dataset? If your outcome occurs in 1% of cases, then models that just predict the majority case every time reach 99% accuracy, but this is clearly not very useful. Finally, most datasets will be composed of a mixture of categorical and numerical variables. How can you make use of as much data as possible when building our models?\n",
    "\n",
    "Of course, these are not the only tricky aspects of datasets. You may have to remove outliers, smooth noisy data, scale or normalize your features, handle redundant or duplicate data, and bin or discretize variables. Still, we focus on the first topics we mentioned since less has been written about them within a tutorial context. \n",
    "\n",
    "Here is an overview of this blog post:\n",
    "\n",
    "![Overview](https://raw.githubusercontent.com/nslatysheva/data_science_blogging/master/dirty_data/dirty_data_overview.png)"
   ]
  },
  {
   "cell_type": "markdown",
   "metadata": {},
   "source": [
    "## Filling in missing data\n",
    "\n",
    "Easiest - omission.\n",
    "\n",
    "Difference techniques for imputation."
   ]
  },
  {
   "cell_type": "markdown",
   "metadata": {},
   "source": [
    "## Redressing the balance: dealing with unbalanced target variables\n",
    "\n",
    "A lot of data will have unbalanced outcome variables, i.e. very unequal proportions between the classes. Can mess with many classification algorithms, unhelpful results.\n",
    "\n",
    "Oversampling minority case (with, without replacement). \n",
    "\n",
    "Undersampling majority case.\n",
    "\n",
    "Synthetic minority case generation.\n",
    "\n",
    "Attaching weights to classes within the algorithm. A few of scikit's algorithms come with a weights option. "
   ]
  },
  {
   "cell_type": "markdown",
   "metadata": {},
   "source": [
    "## Getting the most from mixed datasets\n",
    "\n",
    "Certain algorithms, like trees and forrests, are just as able to use numerical data as categorical data (i.e. trees just split on any type of variable as long as it increases purity in the terminal nodes). \n",
    "\n",
    "For others, mixed data types are an issue. \n",
    "\n",
    "Recoding categorical variables as numbers. Issue - if no natural ranking, numbers are misleading. \n",
    "\n",
    "Recoding categorical variables as binary dummy variables. \n",
    "\n",
    "Another way data can be mixed - if numerical features are on vastly different scales. Mean scaling and variance normalization.\n"
   ]
  },
  {
   "cell_type": "markdown",
   "metadata": {},
   "source": [
    "## Conclusion\n"
   ]
  },
  {
   "cell_type": "code",
   "execution_count": null,
   "metadata": {
    "collapsed": true
   },
   "outputs": [],
   "source": []
  }
 ],
 "metadata": {
  "kernelspec": {
   "display_name": "Python 2",
   "language": "python",
   "name": "python2"
  },
  "language_info": {
   "codemirror_mode": {
    "name": "ipython",
    "version": 2
   },
   "file_extension": ".py",
   "mimetype": "text/x-python",
   "name": "python",
   "nbconvert_exporter": "python",
   "pygments_lexer": "ipython2",
   "version": "2.7.11"
  }
 },
 "nbformat": 4,
 "nbformat_minor": 0
}
