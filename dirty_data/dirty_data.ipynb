{
 "cells": [
  {
   "cell_type": "markdown",
   "metadata": {},
   "source": [
    "# Dirty data: dealing with missing, unbalanced, and diverse data\n",
    "\n",
    "In the last few posts, we have covered some general principles of fitting machine learning models, optimizing hyperparameters of your models, and different techniques for building an ensemble model from individual models. However, we have mostly avoided talking about some common issues that plague real-world machine learning. \n",
    "\n",
    "Namely, what do you do if you have a lot of missing data? Simply omitting rows with missing values can rapidly whittle your dataset down too much. And what happens if the outcome you're trying to predict is quite rare (e.g. as in fraud detection) in your dataset? If your outcome occurs in 1% of cases, then models that just predict the majority case every time reach 99% accuracy, but this is clearly not very useful. Finally, most datasets will be composed of a mixture of categorical and numerical variables. How can you make use of as much data as possible when building our models?\n",
    "\n",
    "Of course, these are not the only tricky aspects of datasets. You may have to remove outliers, smooth noisy data, scale or normalize your features, handle redundant or duplicate data, and bin or discretize variables. Still, we focus on the first topics we mentioned since less has been written about them within a tutorial context. \n",
    "\n",
    "Here is an overview of this blog post:\n",
    "\n"
   ]
  },
  {
   "cell_type": "code",
   "execution_count": null,
   "metadata": {
    "collapsed": true
   },
   "outputs": [],
   "source": []
  }
 ],
 "metadata": {
  "kernelspec": {
   "display_name": "Python 2",
   "language": "python",
   "name": "python2"
  },
  "language_info": {
   "codemirror_mode": {
    "name": "ipython",
    "version": 2
   },
   "file_extension": ".py",
   "mimetype": "text/x-python",
   "name": "python",
   "nbconvert_exporter": "python",
   "pygments_lexer": "ipython2",
   "version": "2.7.11"
  }
 },
 "nbformat": 4,
 "nbformat_minor": 0
}
